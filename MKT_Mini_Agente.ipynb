{
  "nbformat": 4,
  "nbformat_minor": 0,
  "metadata": {
    "colab": {
      "provenance": [],
      "authorship_tag": "ABX9TyMe6GwEF+ZIZ30nnyMgHnf3",
      "include_colab_link": true
    },
    "kernelspec": {
      "name": "python3",
      "display_name": "Python 3"
    },
    "language_info": {
      "name": "python"
    }
  },
  "cells": [
    {
      "cell_type": "markdown",
      "metadata": {
        "id": "view-in-github",
        "colab_type": "text"
      },
      "source": [
        "<a href=\"https://colab.research.google.com/github/FerEnnes/FerEnnes/blob/main/MKT_Mini_Agente.ipynb\" target=\"_parent\"><img src=\"https://colab.research.google.com/assets/colab-badge.svg\" alt=\"Open In Colab\"/></a>"
      ]
    },
    {
      "cell_type": "code",
      "execution_count": 24,
      "metadata": {
        "id": "sxXcRsFF8pMo"
      },
      "outputs": [],
      "source": [
        "%pip install -q google-generativeai #Serve para instalar a biblioteca oficial do Gemini.\n"
      ]
    },
    {
      "cell_type": "code",
      "source": [
        "import os, json, math, textwrap #Importa módulos padrão do Python: os (variáveis de ambiente, caminhos),json (serializar/ler JSON),math (funções matemáticas),textwrap (formatar “quebras” de texto para exibir bonito).\n",
        "import google.generativeai as genai #Importa a SDK do Gemini e dá o apelido genai e é com ela que você configura a API key e chama o modelo.\n",
        "\n",
        "# 1) lê a chave do painel Secrets (nome EXATO que você criou)\n",
        "api_key = userdata.get(\"GOOGLE_APIKEY_ETIC\")\n",
        "assert api_key, \"No Secrets: crie 'GOOGLE_APIKEY_ETIC' e conceda acesso ao notebook.\" #Verifica se a variável de ambiente GOOGLE_API_KEY existe. Se não existir, para a execução e mostra a mensagem\n",
        "\n",
        "# 2) espelha no os.environ para manter compatível com outros trechos\n",
        "os.environ[\"GOOGLE_APIKEY_ETIC\"] = api_key\n",
        "\n",
        "# 3) configura o Gemini\n",
        "genai.configure(api_key=api_key) #Configura a SDK com a sua API key (lida da variável). Depois disso, qualquer genai.GenerativeModel(...) já usa essa chave.\n",
        "\n",
        "MODEL = \"gemini-2.5-flash\"\n",
        "generation_config = {\"temperature\": 0.4, \"top_p\": 0.9, \"max_output_tokens\": 3000} #: 0 = mais determinístico, alto = mais criativo. Aqui 0.4 (equilíbrio).#“nucleus sampling”; 0.9 limita o vocabulário aos tokens mais prováveis até somar 90% de probabilidade (controle de diversidade). #tamanho máximo da resposta. Evita respostas longas demais.\n",
        "print(\"OK: lido dos Secrets e configurado.\")\n"
      ],
      "metadata": {
        "colab": {
          "base_uri": "https://localhost:8080/"
        },
        "id": "whklv2oQGGgb",
        "outputId": "dde5f8d4-6b3b-447e-a636-67862e78f560"
      },
      "execution_count": 31,
      "outputs": [
        {
          "output_type": "stream",
          "name": "stdout",
          "text": [
            "OK: lido dos Secrets e configurado.\n"
          ]
        }
      ]
    },
    {
      "cell_type": "code",
      "source": [
        "#Teste rápido para ver se está funcionando (OK, funcionando., sua chave está 100% conectada):\n",
        "model = genai.GenerativeModel(MODEL, generation_config=generation_config)\n",
        "resp = model.generate_content(\"Diga apenas: OK, funcionando.\")\n",
        "print(resp.text)\n",
        "\n"
      ],
      "metadata": {
        "colab": {
          "base_uri": "https://localhost:8080/",
          "height": 34
        },
        "id": "-AVT21GSHiZj",
        "outputId": "bb05da12-a5cb-4413-d154-760fc66f81be"
      },
      "execution_count": 32,
      "outputs": [
        {
          "output_type": "stream",
          "name": "stdout",
          "text": [
            "OK, funcionando.\n"
          ]
        }
      ]
    },
    {
      "cell_type": "code",
      "source": [
        "#Limpa texto de entrada (sanitize_text): remove quebras de linha e limita o tamanho (até 300 caracteres).\n",
        "#Valida números (validate_numbers): converte orçamento e CPR para float e bloqueia valores inválidos (não numéricos ou ≤ 0).\n",
        "#Evita extremos: impõe limites razoáveis (ex.: orçamento > 1e6) para não quebrar a demo e manter o agente seguro.\n",
        "#CPR (Custo por Resultado) é quanto, em média, se paga por um resultado desejado — ex.: clique, lead ou venda.\n",
        "def sanitize_text(s: str, max_len=300):\n",
        "    s = (s or \"\").strip()\n",
        "    s = s.replace(\"\\n\", \" \")\n",
        "    return s[:max_len]\n",
        "\n",
        "def validate_numbers(budget, cpr):\n",
        "    try:\n",
        "        budget = float(budget)\n",
        "        cpr = float(cpr)\n",
        "    except:\n",
        "        raise ValueError(\"Orçamento e CPR precisam ser números (ex.: 60 e 3).\")\n",
        "    if budget <= 0 or cpr <= 0:\n",
        "        raise ValueError(\"Orçamento e CPR devem ser > 0.\")\n",
        "    if budget > 1e6 or cpr > 1e5:\n",
        "        raise ValueError(\"Valores muito altos para a aula. Revise.\")\n",
        "    return budget, cpr\n"
      ],
      "metadata": {
        "id": "s_m8g50GJAKZ"
      },
      "execution_count": 33,
      "outputs": []
    },
    {
      "cell_type": "code",
      "source": [
        "PROMPT_TEMPLATE = \"\"\"Você é uma assistente de marketing didática.\n",
        "Tarefa: gerar 3 IDEIAS de post e 2 LEGENDAS curtas por IDEIA, para o tema abaixo.\n",
        "Políticas (guardrails): não prometa resultados garantidos; seja clara e específica; sem jargões; máximo 140 caracteres por legenda.\n",
        "\n",
        "Contexto:\n",
        "- Tema/Nicho: {topic}\n",
        "- Público: {audience}\n",
        "- Oferta/Ângulo: {offer}\n",
        "- Tom de voz: {tone}\n",
        "\n",
        "Formato de saída (obrigatório):\n",
        "1) IDEIAS (3 itens numerados, cada ideia com título curto + ângulo)\n",
        "2) LEGENDAS (para cada ideia, 2 variações curtas com CTA)\n",
        "Não inclua nada além desses itens.\n",
        "\"\"\"\n",
        "\n",
        "\n",
        "#Recebe topic, audience, offer e tone, limpa cada um com sanitize_text (guardrail de entrada).\n",
        "#Preenche o PROMPT_TEMPLATE substituindo os campos {topic}, {audience}, {offer}, {tone} pelos valores limpos.\n",
        "#Retorna uma única string pronta para enviar ao modelo (o “prompt” final).\n",
        "\n",
        "def build_prompt(topic, audience, offer, tone):\n",
        "    return PROMPT_TEMPLATE.format(\n",
        "        topic=sanitize_text(topic),\n",
        "        audience=sanitize_text(audience),\n",
        "        offer=sanitize_text(offer),\n",
        "        tone=sanitize_text(tone),\n",
        "    )\n"
      ],
      "metadata": {
        "id": "QVuHh2KrMqQ3"
      },
      "execution_count": 34,
      "outputs": []
    },
    {
      "cell_type": "markdown",
      "source": [
        "# explicando a função da célula 5 - Função do “agente” (gera ideias e legendas) + cálculo em Python\n",
        "\n",
        "agente_marketing(...)\n",
        "\n",
        "Orquestra tudo: valida números, monta o prompt, chama o modelo Gemini e calcula a estimativa (orçamento ÷ CPR).\n",
        "Retorna um dicionário com o texto gerado e os dados da estimativa, já arredondados.\n",
        "\n",
        "validate_numbers(budget, cpr)\n",
        "\n",
        "Confere se orçamento e CPR são números válidos (> 0) e dentro de limites razoáveis.\n",
        "Evita entradas que quebrem a demo ou gerem cálculos sem sentido.\n",
        "\n",
        "build_prompt(topic, audience, offer, tone)\n",
        "\n",
        "Limpa os textos (guardrail) e injeta nos campos do template de prompt.\n",
        "Entrega uma string pronta para o generate_content.\n",
        "\n",
        "genai.GenerativeModel(model_name=model, generation_config=gen_config)\n",
        "\n",
        "Cria a “instância” do modelo Gemini que você vai usar.\n",
        "Aplica o nome do modelo e parâmetros de geração (temperatura, max tokens, etc.).\n",
        "\n",
        "model.generate_content(prompt)\n",
        "\n",
        "Envia o prompt ao Gemini e recebe a resposta do modelo.\n",
        "O texto retornado vai para response.text e é repassado no resultado final."
      ],
      "metadata": {
        "id": "x61J84wjPXrv"
      }
    },
    {
      "cell_type": "code",
      "source": [
        "def agente_marketing(topic, audience, offer, tone, budget, cpr,\n",
        "                     model=MODEL, gen_config=generation_config):\n",
        "    budget, cpr = validate_numbers(budget, cpr)\n",
        "    prompt = build_prompt(topic, audience, offer, tone)\n",
        "\n",
        "    model = genai.GenerativeModel(model_name=model, generation_config=gen_config)\n",
        "    response = model.generate_content(prompt)\n",
        "\n",
        "    # Cálculo feito fora do modelo (controlado)\n",
        "    estimativa = budget / cpr\n",
        "\n",
        "    return {\n",
        "        \"saida_texto\": response.text,\n",
        "        \"estimativa\": {\n",
        "            \"orcamento\": budget,\n",
        "            \"cpr\": cpr,\n",
        "            \"expressao\": f\"{budget}/{cpr}\",\n",
        "            \"resultado_aproximado\": round(estimativa, 2)\n",
        "        }\n",
        "    }\n"
      ],
      "metadata": {
        "id": "TUeeqUQuNC-u"
      },
      "execution_count": 35,
      "outputs": []
    },
    {
      "cell_type": "code",
      "source": [
        "# ==== Entrada pelo usuário (com validação) ====\n",
        "\n",
        "def get_nonempty(prompt_text, max_len=300):\n",
        "    while True:\n",
        "        v = input(prompt_text).strip()\n",
        "        if v:\n",
        "            # usa seu sanitize_text se já definiu\n",
        "            return sanitize_text(v, max_len=max_len)\n",
        "        print(\"⚠️  Campo obrigatório. Tente novamente.\")\n",
        "\n",
        "def get_float_pos(prompt_text, max_val=None):\n",
        "    while True:\n",
        "        v = input(prompt_text).strip().replace(\",\", \".\")\n",
        "        try:\n",
        "            x = float(v)\n",
        "            if x <= 0:\n",
        "                print(\"⚠️  Precisa ser > 0.\")\n",
        "                continue\n",
        "            if max_val and x > max_val:\n",
        "                print(f\"⚠️  Valor muito alto para a aula (>{max_val}). Tente novamente.\")\n",
        "                continue\n",
        "            return x\n",
        "        except:\n",
        "            print(\"⚠️  Digite um número válido (ex.: 60 ou 3).\")\n",
        "\n",
        "print(\"Preencha os campos da campanha (use frases curtas):\\n\")\n",
        "topic    = get_nonempty(\"Tema/Nicho: \")\n",
        "audience = get_nonempty(\"Público: \")\n",
        "offer    = get_nonempty(\"Oferta/Ângulo: \")\n",
        "tone     = get_nonempty(\"Tom de voz: \")\n",
        "budget   = get_float_pos(\"Orçamento (R$): \", max_val=1e6)\n",
        "cpr      = get_float_pos(\"CPR (custo por resultado em R$): \", max_val=1e5)\n",
        "\n",
        "# Executa o agente\n",
        "res = agente_marketing(topic, audience, offer, tone, budget, cpr)\n",
        "\n",
        "# Saída - conteúdo gerado\n",
        "print(\"\\n=== IDEIAS e LEGENDAS ===\\n\")\n",
        "print(res[\"saida_texto\"])\n",
        "\n",
        "# Saída - estimativa com nome do resultado\n",
        "resultado_nome = input(\"\\nResultado medido pelo CPR (ex.: cliques, leads, vendas): \").strip() or \"resultados\"\n",
        "print(\"\\n=== ESTIMATIVA ===\")\n",
        "print(f\"Resultados ≈ orçamento / CPR → {res['estimativa']['expressao']} = {int(res['estimativa']['resultado_aproximado'])} {resultado_nome}\")\n",
        "\n",
        "print(\"\\n(Observação: estimativa é aproximação; não é garantia de performance.)\")\n",
        "\n",
        "\n"
      ],
      "metadata": {
        "colab": {
          "base_uri": "https://localhost:8080/",
          "height": 624
        },
        "id": "jAN97XA3OXbb",
        "outputId": "d591125f-d6f2-4e3d-a98b-20e43b716173"
      },
      "execution_count": 41,
      "outputs": [
        {
          "output_type": "stream",
          "name": "stdout",
          "text": [
            "Preencha os campos da campanha (use frases curtas):\n",
            "\n",
            "Tema/Nicho: pizzaria\n",
            "Público: todos os gêneros de 20 até 35\n",
            "Oferta/Ângulo: pizza em dobro nas quartas\n",
            "Tom de voz: imperdível e jovem\n",
            "Orçamento (R$): 300\n",
            "CPR (custo por resultado em R$): 0,50\n",
            "\n",
            "=== IDEIAS e LEGENDAS ===\n",
            "\n",
            "1) IDEIAS\n",
            "1.  **Quarta em Dobro:** Destaque a oportunidade de ter duas pizzas pelo preço de uma, ideal para compartilhar ou ter uma extra.\n",
            "2.  **Quebre a Rotina:** Posicione a oferta como a melhor forma de animar a quarta-feira e sair do tédio da semana.\n",
            "3.  **Dupla Perfeita:** Enfatize o valor e a conveniência de levar duas pizzas, transformando uma noite comum em algo especial.\n",
            "\n",
            "2) LEGENDAS\n",
            "**Para IDEIA 1: Quarta em Dobro**\n",
            "*   Quarta é dia de alegria em dobro! Peça uma pizza e leve outra grátis. Marque quem vai dividir com você! 🍕🍕\n",
            "*   Sua quarta merece mais! Leve 2 pizzas pelo preço de 1. Corre pra aproveitar essa oferta imperdível! Peça já! 😉\n",
            "\n",
            "**Para IDEIA 2: Quebre a Rotina**\n",
            "*   Cansado da rotina? Quebre a semana com pizza em dobro! Duas pizzas pelo preço de uma só na quarta. Peça a sua! 🚀\n",
            "*   A quarta-feira nunca foi tão boa! Pizza em dobro pra animar seu dia. Não perca! Faça seu pedido agora! 🤩\n",
            "\n",
            "**Para IDEIA 3: Dupla Perfeita**\n",
            "*   A dupla perfeita existe e é nossa pizza em dobro! Peça uma e leve outra grátis toda quarta. Vem buscar a sua! 😋\n",
            "*   Sua noite de quarta tem um upgrade! Duas pizzas pelo preço de uma. Chame a galera e peça já essa delícia! 👇\n",
            "\n",
            "Resultado medido pelo CPR (ex.: cliques, leads, vendas): cliques\n",
            "\n",
            "=== ESTIMATIVA ===\n",
            "Resultados ≈ orçamento / CPR → 300.0/0.5 = 600 cliques\n",
            "\n",
            "(Observação: estimativa é aproximação; não é garantia de performance.)\n"
          ]
        }
      ]
    }
  ]
}